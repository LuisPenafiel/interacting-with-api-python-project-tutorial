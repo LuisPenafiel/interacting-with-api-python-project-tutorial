{
    "cells": [
        {
            "cell_type": "markdown",
            "metadata": {},
            "source": [
                "# Explore here"
            ]
        },
        {
            "cell_type": "markdown",
            "metadata": {},
            "source": [
                "# Pip & Requirements"
            ]
        },
        {
            "cell_type": "code",
            "execution_count": 1,
            "metadata": {},
            "outputs": [
                {
                    "name": "stdout",
                    "output_type": "stream",
                    "text": [
                        "Defaulting to user installation because normal site-packages is not writeable\n",
                        "Requirement already satisfied: sqlalchemy==1.4.37 in /home/vscode/.local/lib/python3.11/site-packages (from -r /workspaces/interacting-with-api-python-project-tutorial/requirements.txt (line 2)) (1.4.37)\n",
                        "Requirement already satisfied: pymysql==1.0.2 in /home/vscode/.local/lib/python3.11/site-packages (from -r /workspaces/interacting-with-api-python-project-tutorial/requirements.txt (line 3)) (1.0.2)\n",
                        "Requirement already satisfied: pandas==1.4.2 in /home/vscode/.local/lib/python3.11/site-packages (from -r /workspaces/interacting-with-api-python-project-tutorial/requirements.txt (line 4)) (1.4.2)\n",
                        "Requirement already satisfied: python-dotenv==0.20.0 in /home/vscode/.local/lib/python3.11/site-packages (from -r /workspaces/interacting-with-api-python-project-tutorial/requirements.txt (line 5)) (0.20.0)\n",
                        "Requirement already satisfied: psycopg2-binary==2.9.3 in /home/vscode/.local/lib/python3.11/site-packages (from -r /workspaces/interacting-with-api-python-project-tutorial/requirements.txt (line 6)) (2.9.3)\n",
                        "Requirement already satisfied: requests==2.27.1 in /home/vscode/.local/lib/python3.11/site-packages (from -r /workspaces/interacting-with-api-python-project-tutorial/requirements.txt (line 7)) (2.27.1)\n",
                        "Requirement already satisfied: spotipy==2.23.0 in /home/vscode/.local/lib/python3.11/site-packages (from -r /workspaces/interacting-with-api-python-project-tutorial/requirements.txt (line 8)) (2.23.0)\n",
                        "Requirement already satisfied: numpy>=1.18.5 in /home/vscode/.local/lib/python3.11/site-packages (from -r /workspaces/interacting-with-api-python-project-tutorial/requirements.txt (line 10)) (1.26.1)\n",
                        "Requirement already satisfied: opencv-python>=4.1.2 in /home/vscode/.local/lib/python3.11/site-packages (from -r /workspaces/interacting-with-api-python-project-tutorial/requirements.txt (line 11)) (4.8.1.78)\n",
                        "Requirement already satisfied: matplotlib>=3.2.2 in /home/vscode/.local/lib/python3.11/site-packages (from -r /workspaces/interacting-with-api-python-project-tutorial/requirements.txt (line 12)) (3.8.0)\n",
                        "Requirement already satisfied: ipyleaflet>=0.14.0 in /home/vscode/.local/lib/python3.11/site-packages (from -r /workspaces/interacting-with-api-python-project-tutorial/requirements.txt (line 13)) (0.17.4)\n",
                        "Requirement already satisfied: sympy>=1.10.1 in /home/vscode/.local/lib/python3.11/site-packages (from -r /workspaces/interacting-with-api-python-project-tutorial/requirements.txt (line 14)) (1.12)\n",
                        "Requirement already satisfied: scikit-learn in /home/vscode/.local/lib/python3.11/site-packages (from -r /workspaces/interacting-with-api-python-project-tutorial/requirements.txt (line 17)) (1.3.1)\n",
                        "Requirement already satisfied: greenlet!=0.4.17 in /home/vscode/.local/lib/python3.11/site-packages (from sqlalchemy==1.4.37->-r /workspaces/interacting-with-api-python-project-tutorial/requirements.txt (line 2)) (3.0.0)\n",
                        "Requirement already satisfied: python-dateutil>=2.8.1 in /home/vscode/.local/lib/python3.11/site-packages (from pandas==1.4.2->-r /workspaces/interacting-with-api-python-project-tutorial/requirements.txt (line 4)) (2.8.2)\n",
                        "Requirement already satisfied: pytz>=2020.1 in /home/vscode/.local/lib/python3.11/site-packages (from pandas==1.4.2->-r /workspaces/interacting-with-api-python-project-tutorial/requirements.txt (line 4)) (2023.3.post1)\n",
                        "Requirement already satisfied: urllib3<1.27,>=1.21.1 in /home/vscode/.local/lib/python3.11/site-packages (from requests==2.27.1->-r /workspaces/interacting-with-api-python-project-tutorial/requirements.txt (line 7)) (1.26.18)\n",
                        "Requirement already satisfied: certifi>=2017.4.17 in /home/vscode/.local/lib/python3.11/site-packages (from requests==2.27.1->-r /workspaces/interacting-with-api-python-project-tutorial/requirements.txt (line 7)) (2023.7.22)\n",
                        "Requirement already satisfied: charset-normalizer~=2.0.0 in /home/vscode/.local/lib/python3.11/site-packages (from requests==2.27.1->-r /workspaces/interacting-with-api-python-project-tutorial/requirements.txt (line 7)) (2.0.12)\n",
                        "Requirement already satisfied: idna<4,>=2.5 in /home/vscode/.local/lib/python3.11/site-packages (from requests==2.27.1->-r /workspaces/interacting-with-api-python-project-tutorial/requirements.txt (line 7)) (3.4)\n",
                        "Requirement already satisfied: redis>=3.5.3 in /home/vscode/.local/lib/python3.11/site-packages (from spotipy==2.23.0->-r /workspaces/interacting-with-api-python-project-tutorial/requirements.txt (line 8)) (5.0.1)\n",
                        "Requirement already satisfied: six>=1.15.0 in /home/vscode/.local/lib/python3.11/site-packages (from spotipy==2.23.0->-r /workspaces/interacting-with-api-python-project-tutorial/requirements.txt (line 8)) (1.16.0)\n",
                        "Requirement already satisfied: contourpy>=1.0.1 in /home/vscode/.local/lib/python3.11/site-packages (from matplotlib>=3.2.2->-r /workspaces/interacting-with-api-python-project-tutorial/requirements.txt (line 12)) (1.1.1)\n",
                        "Requirement already satisfied: cycler>=0.10 in /home/vscode/.local/lib/python3.11/site-packages (from matplotlib>=3.2.2->-r /workspaces/interacting-with-api-python-project-tutorial/requirements.txt (line 12)) (0.12.1)\n",
                        "Requirement already satisfied: fonttools>=4.22.0 in /home/vscode/.local/lib/python3.11/site-packages (from matplotlib>=3.2.2->-r /workspaces/interacting-with-api-python-project-tutorial/requirements.txt (line 12)) (4.43.1)\n",
                        "Requirement already satisfied: kiwisolver>=1.0.1 in /home/vscode/.local/lib/python3.11/site-packages (from matplotlib>=3.2.2->-r /workspaces/interacting-with-api-python-project-tutorial/requirements.txt (line 12)) (1.4.5)\n",
                        "Requirement already satisfied: packaging>=20.0 in /home/vscode/.local/lib/python3.11/site-packages (from matplotlib>=3.2.2->-r /workspaces/interacting-with-api-python-project-tutorial/requirements.txt (line 12)) (23.2)\n",
                        "Requirement already satisfied: pillow>=6.2.0 in /home/vscode/.local/lib/python3.11/site-packages (from matplotlib>=3.2.2->-r /workspaces/interacting-with-api-python-project-tutorial/requirements.txt (line 12)) (10.1.0)\n",
                        "Requirement already satisfied: pyparsing>=2.3.1 in /home/vscode/.local/lib/python3.11/site-packages (from matplotlib>=3.2.2->-r /workspaces/interacting-with-api-python-project-tutorial/requirements.txt (line 12)) (3.1.1)\n",
                        "Requirement already satisfied: ipywidgets<9,>=7.6.0 in /home/vscode/.local/lib/python3.11/site-packages (from ipyleaflet>=0.14.0->-r /workspaces/interacting-with-api-python-project-tutorial/requirements.txt (line 13)) (8.1.1)\n",
                        "Requirement already satisfied: traittypes<3,>=0.2.1 in /home/vscode/.local/lib/python3.11/site-packages (from ipyleaflet>=0.14.0->-r /workspaces/interacting-with-api-python-project-tutorial/requirements.txt (line 13)) (0.2.1)\n",
                        "Requirement already satisfied: xyzservices>=2021.8.1 in /home/vscode/.local/lib/python3.11/site-packages (from ipyleaflet>=0.14.0->-r /workspaces/interacting-with-api-python-project-tutorial/requirements.txt (line 13)) (2023.10.0)\n",
                        "Requirement already satisfied: branca>=0.5.0 in /home/vscode/.local/lib/python3.11/site-packages (from ipyleaflet>=0.14.0->-r /workspaces/interacting-with-api-python-project-tutorial/requirements.txt (line 13)) (0.6.0)\n",
                        "Requirement already satisfied: mpmath>=0.19 in /home/vscode/.local/lib/python3.11/site-packages (from sympy>=1.10.1->-r /workspaces/interacting-with-api-python-project-tutorial/requirements.txt (line 14)) (1.3.0)\n",
                        "Requirement already satisfied: scipy>=1.5.0 in /home/vscode/.local/lib/python3.11/site-packages (from scikit-learn->-r /workspaces/interacting-with-api-python-project-tutorial/requirements.txt (line 17)) (1.11.3)\n",
                        "Requirement already satisfied: joblib>=1.1.1 in /home/vscode/.local/lib/python3.11/site-packages (from scikit-learn->-r /workspaces/interacting-with-api-python-project-tutorial/requirements.txt (line 17)) (1.3.2)\n",
                        "Requirement already satisfied: threadpoolctl>=2.0.0 in /home/vscode/.local/lib/python3.11/site-packages (from scikit-learn->-r /workspaces/interacting-with-api-python-project-tutorial/requirements.txt (line 17)) (3.2.0)\n",
                        "Requirement already satisfied: jinja2 in /home/vscode/.local/lib/python3.11/site-packages (from branca>=0.5.0->ipyleaflet>=0.14.0->-r /workspaces/interacting-with-api-python-project-tutorial/requirements.txt (line 13)) (3.1.2)\n",
                        "Requirement already satisfied: comm>=0.1.3 in /home/vscode/.local/lib/python3.11/site-packages (from ipywidgets<9,>=7.6.0->ipyleaflet>=0.14.0->-r /workspaces/interacting-with-api-python-project-tutorial/requirements.txt (line 13)) (0.1.4)\n",
                        "Requirement already satisfied: ipython>=6.1.0 in /home/vscode/.local/lib/python3.11/site-packages (from ipywidgets<9,>=7.6.0->ipyleaflet>=0.14.0->-r /workspaces/interacting-with-api-python-project-tutorial/requirements.txt (line 13)) (8.16.1)\n",
                        "Requirement already satisfied: traitlets>=4.3.1 in /home/vscode/.local/lib/python3.11/site-packages (from ipywidgets<9,>=7.6.0->ipyleaflet>=0.14.0->-r /workspaces/interacting-with-api-python-project-tutorial/requirements.txt (line 13)) (5.11.2)\n",
                        "Requirement already satisfied: widgetsnbextension~=4.0.9 in /home/vscode/.local/lib/python3.11/site-packages (from ipywidgets<9,>=7.6.0->ipyleaflet>=0.14.0->-r /workspaces/interacting-with-api-python-project-tutorial/requirements.txt (line 13)) (4.0.9)\n",
                        "Requirement already satisfied: jupyterlab-widgets~=3.0.9 in /home/vscode/.local/lib/python3.11/site-packages (from ipywidgets<9,>=7.6.0->ipyleaflet>=0.14.0->-r /workspaces/interacting-with-api-python-project-tutorial/requirements.txt (line 13)) (3.0.9)\n",
                        "Requirement already satisfied: backcall in /home/vscode/.local/lib/python3.11/site-packages (from ipython>=6.1.0->ipywidgets<9,>=7.6.0->ipyleaflet>=0.14.0->-r /workspaces/interacting-with-api-python-project-tutorial/requirements.txt (line 13)) (0.2.0)\n",
                        "Requirement already satisfied: decorator in /home/vscode/.local/lib/python3.11/site-packages (from ipython>=6.1.0->ipywidgets<9,>=7.6.0->ipyleaflet>=0.14.0->-r /workspaces/interacting-with-api-python-project-tutorial/requirements.txt (line 13)) (5.1.1)\n",
                        "Requirement already satisfied: jedi>=0.16 in /home/vscode/.local/lib/python3.11/site-packages (from ipython>=6.1.0->ipywidgets<9,>=7.6.0->ipyleaflet>=0.14.0->-r /workspaces/interacting-with-api-python-project-tutorial/requirements.txt (line 13)) (0.19.1)\n",
                        "Requirement already satisfied: matplotlib-inline in /home/vscode/.local/lib/python3.11/site-packages (from ipython>=6.1.0->ipywidgets<9,>=7.6.0->ipyleaflet>=0.14.0->-r /workspaces/interacting-with-api-python-project-tutorial/requirements.txt (line 13)) (0.1.6)\n",
                        "Requirement already satisfied: pickleshare in /home/vscode/.local/lib/python3.11/site-packages (from ipython>=6.1.0->ipywidgets<9,>=7.6.0->ipyleaflet>=0.14.0->-r /workspaces/interacting-with-api-python-project-tutorial/requirements.txt (line 13)) (0.7.5)\n",
                        "Requirement already satisfied: prompt-toolkit!=3.0.37,<3.1.0,>=3.0.30 in /home/vscode/.local/lib/python3.11/site-packages (from ipython>=6.1.0->ipywidgets<9,>=7.6.0->ipyleaflet>=0.14.0->-r /workspaces/interacting-with-api-python-project-tutorial/requirements.txt (line 13)) (3.0.39)\n",
                        "Requirement already satisfied: pygments>=2.4.0 in /home/vscode/.local/lib/python3.11/site-packages (from ipython>=6.1.0->ipywidgets<9,>=7.6.0->ipyleaflet>=0.14.0->-r /workspaces/interacting-with-api-python-project-tutorial/requirements.txt (line 13)) (2.16.1)\n",
                        "Requirement already satisfied: stack-data in /home/vscode/.local/lib/python3.11/site-packages (from ipython>=6.1.0->ipywidgets<9,>=7.6.0->ipyleaflet>=0.14.0->-r /workspaces/interacting-with-api-python-project-tutorial/requirements.txt (line 13)) (0.6.3)\n",
                        "Requirement already satisfied: pexpect>4.3 in /home/vscode/.local/lib/python3.11/site-packages (from ipython>=6.1.0->ipywidgets<9,>=7.6.0->ipyleaflet>=0.14.0->-r /workspaces/interacting-with-api-python-project-tutorial/requirements.txt (line 13)) (4.8.0)\n",
                        "Requirement already satisfied: MarkupSafe>=2.0 in /home/vscode/.local/lib/python3.11/site-packages (from jinja2->branca>=0.5.0->ipyleaflet>=0.14.0->-r /workspaces/interacting-with-api-python-project-tutorial/requirements.txt (line 13)) (2.1.3)\n",
                        "Requirement already satisfied: parso<0.9.0,>=0.8.3 in /home/vscode/.local/lib/python3.11/site-packages (from jedi>=0.16->ipython>=6.1.0->ipywidgets<9,>=7.6.0->ipyleaflet>=0.14.0->-r /workspaces/interacting-with-api-python-project-tutorial/requirements.txt (line 13)) (0.8.3)\n",
                        "Requirement already satisfied: ptyprocess>=0.5 in /home/vscode/.local/lib/python3.11/site-packages (from pexpect>4.3->ipython>=6.1.0->ipywidgets<9,>=7.6.0->ipyleaflet>=0.14.0->-r /workspaces/interacting-with-api-python-project-tutorial/requirements.txt (line 13)) (0.7.0)\n",
                        "Requirement already satisfied: wcwidth in /home/vscode/.local/lib/python3.11/site-packages (from prompt-toolkit!=3.0.37,<3.1.0,>=3.0.30->ipython>=6.1.0->ipywidgets<9,>=7.6.0->ipyleaflet>=0.14.0->-r /workspaces/interacting-with-api-python-project-tutorial/requirements.txt (line 13)) (0.2.8)\n",
                        "Requirement already satisfied: executing>=1.2.0 in /home/vscode/.local/lib/python3.11/site-packages (from stack-data->ipython>=6.1.0->ipywidgets<9,>=7.6.0->ipyleaflet>=0.14.0->-r /workspaces/interacting-with-api-python-project-tutorial/requirements.txt (line 13)) (2.0.0)\n",
                        "Requirement already satisfied: asttokens>=2.1.0 in /home/vscode/.local/lib/python3.11/site-packages (from stack-data->ipython>=6.1.0->ipywidgets<9,>=7.6.0->ipyleaflet>=0.14.0->-r /workspaces/interacting-with-api-python-project-tutorial/requirements.txt (line 13)) (2.4.0)\n",
                        "Requirement already satisfied: pure-eval in /home/vscode/.local/lib/python3.11/site-packages (from stack-data->ipython>=6.1.0->ipywidgets<9,>=7.6.0->ipyleaflet>=0.14.0->-r /workspaces/interacting-with-api-python-project-tutorial/requirements.txt (line 13)) (0.2.2)\n",
                        "\n",
                        "\u001b[1m[\u001b[0m\u001b[34;49mnotice\u001b[0m\u001b[1;39;49m]\u001b[0m\u001b[39;49m A new release of pip is available: \u001b[0m\u001b[31;49m23.1.2\u001b[0m\u001b[39;49m -> \u001b[0m\u001b[32;49m23.3\u001b[0m\n",
                        "\u001b[1m[\u001b[0m\u001b[34;49mnotice\u001b[0m\u001b[1;39;49m]\u001b[0m\u001b[39;49m To update, run: \u001b[0m\u001b[32;49mpip install --upgrade pip\u001b[0m\n",
                        "Note: you may need to restart the kernel to use updated packages.\n"
                    ]
                }
            ],
            "source": [
                "pip install -r /workspaces/interacting-with-api-python-project-tutorial/requirements.txt"
            ]
        },
        {
            "cell_type": "code",
            "execution_count": 2,
            "metadata": {},
            "outputs": [
                {
                    "name": "stdout",
                    "output_type": "stream",
                    "text": [
                        "Defaulting to user installation because normal site-packages is not writeable\n",
                        "Requirement already satisfied: spotipy in /home/vscode/.local/lib/python3.11/site-packages (2.23.0)\n",
                        "Requirement already satisfied: redis>=3.5.3 in /home/vscode/.local/lib/python3.11/site-packages (from spotipy) (5.0.1)\n",
                        "Requirement already satisfied: requests>=2.25.0 in /home/vscode/.local/lib/python3.11/site-packages (from spotipy) (2.27.1)\n",
                        "Requirement already satisfied: six>=1.15.0 in /home/vscode/.local/lib/python3.11/site-packages (from spotipy) (1.16.0)\n",
                        "Requirement already satisfied: urllib3>=1.26.0 in /home/vscode/.local/lib/python3.11/site-packages (from spotipy) (1.26.18)\n",
                        "Requirement already satisfied: certifi>=2017.4.17 in /home/vscode/.local/lib/python3.11/site-packages (from requests>=2.25.0->spotipy) (2023.7.22)\n",
                        "Requirement already satisfied: charset-normalizer~=2.0.0 in /home/vscode/.local/lib/python3.11/site-packages (from requests>=2.25.0->spotipy) (2.0.12)\n",
                        "Requirement already satisfied: idna<4,>=2.5 in /home/vscode/.local/lib/python3.11/site-packages (from requests>=2.25.0->spotipy) (3.4)\n",
                        "\n",
                        "\u001b[1m[\u001b[0m\u001b[34;49mnotice\u001b[0m\u001b[1;39;49m]\u001b[0m\u001b[39;49m A new release of pip is available: \u001b[0m\u001b[31;49m23.1.2\u001b[0m\u001b[39;49m -> \u001b[0m\u001b[32;49m23.3\u001b[0m\n",
                        "\u001b[1m[\u001b[0m\u001b[34;49mnotice\u001b[0m\u001b[1;39;49m]\u001b[0m\u001b[39;49m To update, run: \u001b[0m\u001b[32;49mpip install --upgrade pip\u001b[0m\n"
                    ]
                }
            ],
            "source": [
                "! pip install spotipy"
            ]
        },
        {
            "cell_type": "code",
            "execution_count": 3,
            "metadata": {},
            "outputs": [
                {
                    "name": "stdout",
                    "output_type": "stream",
                    "text": [
                        "Defaulting to user installation because normal site-packages is not writeable\n",
                        "Requirement already satisfied: seaborn in /home/vscode/.local/lib/python3.11/site-packages (0.13.0)\n",
                        "Requirement already satisfied: numpy!=1.24.0,>=1.20 in /home/vscode/.local/lib/python3.11/site-packages (from seaborn) (1.26.1)\n",
                        "Requirement already satisfied: pandas>=1.2 in /home/vscode/.local/lib/python3.11/site-packages (from seaborn) (1.4.2)\n",
                        "Requirement already satisfied: matplotlib!=3.6.1,>=3.3 in /home/vscode/.local/lib/python3.11/site-packages (from seaborn) (3.8.0)\n",
                        "Requirement already satisfied: contourpy>=1.0.1 in /home/vscode/.local/lib/python3.11/site-packages (from matplotlib!=3.6.1,>=3.3->seaborn) (1.1.1)\n",
                        "Requirement already satisfied: cycler>=0.10 in /home/vscode/.local/lib/python3.11/site-packages (from matplotlib!=3.6.1,>=3.3->seaborn) (0.12.1)\n",
                        "Requirement already satisfied: fonttools>=4.22.0 in /home/vscode/.local/lib/python3.11/site-packages (from matplotlib!=3.6.1,>=3.3->seaborn) (4.43.1)\n",
                        "Requirement already satisfied: kiwisolver>=1.0.1 in /home/vscode/.local/lib/python3.11/site-packages (from matplotlib!=3.6.1,>=3.3->seaborn) (1.4.5)\n",
                        "Requirement already satisfied: packaging>=20.0 in /home/vscode/.local/lib/python3.11/site-packages (from matplotlib!=3.6.1,>=3.3->seaborn) (23.2)\n",
                        "Requirement already satisfied: pillow>=6.2.0 in /home/vscode/.local/lib/python3.11/site-packages (from matplotlib!=3.6.1,>=3.3->seaborn) (10.1.0)\n",
                        "Requirement already satisfied: pyparsing>=2.3.1 in /home/vscode/.local/lib/python3.11/site-packages (from matplotlib!=3.6.1,>=3.3->seaborn) (3.1.1)\n",
                        "Requirement already satisfied: python-dateutil>=2.7 in /home/vscode/.local/lib/python3.11/site-packages (from matplotlib!=3.6.1,>=3.3->seaborn) (2.8.2)\n",
                        "Requirement already satisfied: pytz>=2020.1 in /home/vscode/.local/lib/python3.11/site-packages (from pandas>=1.2->seaborn) (2023.3.post1)\n",
                        "Requirement already satisfied: six>=1.5 in /home/vscode/.local/lib/python3.11/site-packages (from python-dateutil>=2.7->matplotlib!=3.6.1,>=3.3->seaborn) (1.16.0)\n",
                        "\n",
                        "\u001b[1m[\u001b[0m\u001b[34;49mnotice\u001b[0m\u001b[1;39;49m]\u001b[0m\u001b[39;49m A new release of pip is available: \u001b[0m\u001b[31;49m23.1.2\u001b[0m\u001b[39;49m -> \u001b[0m\u001b[32;49m23.3\u001b[0m\n",
                        "\u001b[1m[\u001b[0m\u001b[34;49mnotice\u001b[0m\u001b[1;39;49m]\u001b[0m\u001b[39;49m To update, run: \u001b[0m\u001b[32;49mpip install --upgrade pip\u001b[0m\n",
                        "Note: you may need to restart the kernel to use updated packages.\n"
                    ]
                }
            ],
            "source": [
                "pip install seaborn"
            ]
        },
        {
            "cell_type": "markdown",
            "metadata": {},
            "source": [
                "# All Imports"
            ]
        },
        {
            "cell_type": "code",
            "execution_count": 13,
            "metadata": {},
            "outputs": [],
            "source": [
                "import os\n",
                "from sqlalchemy import create_engine\n",
                "import pandas as pd\n",
                "from dotenv import load_dotenv\n",
                "import spotipy\n",
                "from spotipy.oauth2 import SpotifyClientCredentials\n",
                "import pandas as pd\n",
                "import seaborn as sns\n",
                "import scipy.stats as stats\n",
                "import matplotlib.pyplot as plt\n",
                "\n"
            ]
        },
        {
            "cell_type": "code",
            "execution_count": 2,
            "metadata": {},
            "outputs": [],
            "source": [
                "# load the .env file variables\n",
                "load_dotenv()\n",
                "\n",
                "client_id = os.environ.get('CLIENT_ID')\n",
                "client_secret = os.environ.get('CLIENT_SECRET')"
            ]
        },
        {
            "cell_type": "code",
            "execution_count": 3,
            "metadata": {},
            "outputs": [],
            "source": [
                "con = spotipy.Spotify(auth_manager = SpotifyClientCredentials(client_id = client_id,\n",
                "                                                              client_secret = client_secret))\n"
            ]
        },
        {
            "cell_type": "code",
            "execution_count": 7,
            "metadata": {},
            "outputs": [
                {
                    "data": {
                        "text/html": [
                            "<div>\n",
                            "<style scoped>\n",
                            "    .dataframe tbody tr th:only-of-type {\n",
                            "        vertical-align: middle;\n",
                            "    }\n",
                            "\n",
                            "    .dataframe tbody tr th {\n",
                            "        vertical-align: top;\n",
                            "    }\n",
                            "\n",
                            "    .dataframe thead th {\n",
                            "        text-align: right;\n",
                            "    }\n",
                            "</style>\n",
                            "<table border=\"1\" class=\"dataframe\">\n",
                            "  <thead>\n",
                            "    <tr style=\"text-align: right;\">\n",
                            "      <th></th>\n",
                            "      <th>name</th>\n",
                            "      <th>popularity</th>\n",
                            "      <th>duration</th>\n",
                            "    </tr>\n",
                            "  </thead>\n",
                            "  <tbody>\n",
                            "    <tr>\n",
                            "      <th>0</th>\n",
                            "      <td>Freak On a Leash</td>\n",
                            "      <td>79</td>\n",
                            "      <td>4.262217</td>\n",
                            "    </tr>\n",
                            "    <tr>\n",
                            "      <th>1</th>\n",
                            "      <td>Coming Undone</td>\n",
                            "      <td>79</td>\n",
                            "      <td>3.329550</td>\n",
                            "    </tr>\n",
                            "    <tr>\n",
                            "      <th>2</th>\n",
                            "      <td>Falling Away from Me</td>\n",
                            "      <td>75</td>\n",
                            "      <td>4.515333</td>\n",
                            "    </tr>\n",
                            "    <tr>\n",
                            "      <th>3</th>\n",
                            "      <td>Got the Life</td>\n",
                            "      <td>75</td>\n",
                            "      <td>3.755100</td>\n",
                            "    </tr>\n",
                            "    <tr>\n",
                            "      <th>4</th>\n",
                            "      <td>Blind - Live at CBGB</td>\n",
                            "      <td>65</td>\n",
                            "      <td>4.206667</td>\n",
                            "    </tr>\n",
                            "    <tr>\n",
                            "      <th>5</th>\n",
                            "      <td>Twisted Transistor</td>\n",
                            "      <td>73</td>\n",
                            "      <td>3.148883</td>\n",
                            "    </tr>\n",
                            "    <tr>\n",
                            "      <th>6</th>\n",
                            "      <td>Y'all Want a Single</td>\n",
                            "      <td>65</td>\n",
                            "      <td>3.298433</td>\n",
                            "    </tr>\n",
                            "    <tr>\n",
                            "      <th>7</th>\n",
                            "      <td>Word Up!</td>\n",
                            "      <td>71</td>\n",
                            "      <td>2.877767</td>\n",
                            "    </tr>\n",
                            "    <tr>\n",
                            "      <th>8</th>\n",
                            "      <td>Here to Stay</td>\n",
                            "      <td>69</td>\n",
                            "      <td>4.516000</td>\n",
                            "    </tr>\n",
                            "    <tr>\n",
                            "      <th>9</th>\n",
                            "      <td>Twist</td>\n",
                            "      <td>68</td>\n",
                            "      <td>0.820217</td>\n",
                            "    </tr>\n",
                            "  </tbody>\n",
                            "</table>\n",
                            "</div>"
                        ],
                        "text/plain": [
                            "                   name  popularity  duration\n",
                            "0      Freak On a Leash          79  4.262217\n",
                            "1         Coming Undone          79  3.329550\n",
                            "2  Falling Away from Me          75  4.515333\n",
                            "3          Got the Life          75  3.755100\n",
                            "4  Blind - Live at CBGB          65  4.206667\n",
                            "5    Twisted Transistor          73  3.148883\n",
                            "6   Y'all Want a Single          65  3.298433\n",
                            "7              Word Up!          71  2.877767\n",
                            "8          Here to Stay          69  4.516000\n",
                            "9                 Twist          68  0.820217"
                        ]
                    },
                    "execution_count": 7,
                    "metadata": {},
                    "output_type": "execute_result"
                }
            ],
            "source": [
                "korn_id = \"3RNrq3jvMZxD9ZyoOZbQOD\"\n",
                "\n",
                "songs=[]\n",
                "response = con.artist_top_tracks(korn_id)\n",
                "if response:\n",
                "    for track in response['tracks']:\n",
                "        tracks = {}\n",
                "        tracks['name'] = track['name']\n",
                "        tracks['popularity'] = track['popularity']\n",
                "        tracks['duration'] = track['duration_ms']/60000\n",
                "        songs.append(tracks)\n",
                "songs_df = pd.DataFrame(songs)\n",
                "songs_df"
            ]
        },
        {
            "cell_type": "code",
            "execution_count": 18,
            "metadata": {},
            "outputs": [
                {
                    "data": {
                        "image/png": "[encoded data removed]",
                        "text/plain": [
                            "<Figure size 640x480 with 1 Axes>"
                        ]
                    },
                    "metadata": {},
                    "output_type": "display_data"
                }
            ],
            "source": [
                "# Create the scatter plot with correlation coefficient and linear regression line\n",
                "scatter_plot = sns.regplot(data=songs_df, x=\"popularity\", y=\"duration\")\n",
                "scatter_plot.text(0.5, 1.1, f\"Correlation coefficient: {corr_coef:.2f}\", ha=\"center\", va=\"center\", transform=scatter_plot.transAxes)\n",
                "\n",
                "# Save the scatter plot as \"scatter_plot.png\"\n",
                "plt.savefig(\"scatter_plot.png\")\n",
                "\n",
                "plt.show() "
            ]
        }
    ],
    "metadata": {
        "kernelspec": {
            "display_name": "Python 3.8.13 64-bit ('3.8.13')",
            "language": "python",
            "name": "python3"
        },
        "language_info": {
            "codemirror_mode": {
                "name": "ipython",
                "version": 3
            },
            "file_extension": ".py",
            "mimetype": "text/x-python",
            "name": "python",
            "nbconvert_exporter": "python",
            "pygments_lexer": "ipython3",
            "version": "3.11.4"
        },
        "orig_nbformat": 4,
        "vscode": {
            "interpreter": {
                "hash": "110cc1dee26208153f2972f08a2ad52b6a56238dc66d48e87fb757ef2996db56"
            }
        }
    },
    "nbformat": 4,
    "nbformat_minor": 2
}
